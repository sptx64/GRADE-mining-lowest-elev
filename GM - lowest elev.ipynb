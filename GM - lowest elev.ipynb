{
 "cells": [
  {
   "cell_type": "markdown",
   "id": "7883a6c5-fa1c-4a87-a83d-07acdc8369d2",
   "metadata": {},
   "source": [
    "# GM - lowest elevation from multiple .str/.shp files"
   ]
  },
  {
   "cell_type": "markdown",
   "id": "3c4bccf8-317e-4bdb-8355-4420f2f45d2c",
   "metadata": {},
   "source": [
    "Le suivi topographique est important dans le contexte minier pour différencier les zones remblayées du terrain naturel. Pour générer une topographie défruitée, c'est à dire une topographie montrant le point le plus bas historiquement atteint, des manipulations chronophages topographie par topographie sont nécessaires. Il existe des solutions directement dans les logiciels Surpac, Leapfrog et QGIS pour calculer la topographie la plus basse par paire de topographie, mais pas à la volée."
   ]
  },
  {
   "cell_type": "markdown",
   "id": "c18e8743-fd49-4594-9f1c-9a6b23d74f42",
   "metadata": {},
   "source": [
    "Ce notebook permet de compiler une topo defruitée à partir de x fichiers .str et d'un contour .gpkg.\n",
    "Il s'agit d'une application open source qui s'adapte au format des fichiers .str (text, non binaire) de Surpac. Mettre toutes les topos .str dans le dossier \"input\" et le contour au format bd_topo_def.gpkg dans le dossier \"input boundary\".\n",
    "Limites rencontrées : sur certaines grandes zones avec une résolution de 1m, le fichier peut générer de +100 000 000 points de controle ce qui peut éventuellement créer un crash du noyau. Limitez la zone d'intérêt et donc le nombre de point grâce au fichier boundary."
   ]
  },
  {
   "cell_type": "markdown",
   "id": "289d0f33-dffd-4760-9604-0caaf5cbd071",
   "metadata": {},
   "source": [
    "Vous devrez avoir au préalable installé les librairies jupyter, pandas et numpy."
   ]
  },
  {
   "cell_type": "markdown",
   "id": "9b11a201-cda5-4f5d-ba23-a836ef9ffdaf",
   "metadata": {},
   "source": [
    "### Import des librairies"
   ]
  },
  {
   "cell_type": "markdown",
   "id": "f94e190d-7fa4-4d56-a0d3-a6196cc61364",
   "metadata": {},
   "source": [
    "L'application utilise les librairies jupyter (notebook), pandas (tableurs) et numpy (calculs) ainsi qu'os (explorateur de dossier). Les fonctions sont définies dans le fichier functions.py."
   ]
  },
  {
   "cell_type": "code",
   "execution_count": 1,
   "id": "7e3f6185-1117-431d-83eb-096c378a490b",
   "metadata": {},
   "outputs": [],
   "source": [
    "#import des librairies, import des fonctions\n",
    "import pandas as pd\n",
    "import numpy as np\n",
    "import os\n",
    "from functions import clean_str, to_surpac_str, main_process"
   ]
  },
  {
   "cell_type": "markdown",
   "id": "99ea75e1-653e-48e7-ad22-a076b40a3f88",
   "metadata": {},
   "source": [
    "### Paramétrage de la résolution et identification des topo disponibles"
   ]
  },
  {
   "cell_type": "markdown",
   "id": "ead15422-9ad1-47b5-89df-c04c948171eb",
   "metadata": {},
   "source": [
    "Vous pouvez ici paramétrer la résolution souhaitée de la topo défruitée. 1m reste suffisant pour une grande zone, possibilité descendre à 0.5m pour une plus petite zone et inversement."
   ]
  },
  {
   "cell_type": "code",
   "execution_count": 2,
   "id": "b162ac5b-b273-428a-a8f6-043d1bdb13f9",
   "metadata": {},
   "outputs": [
    {
     "name": "stdout",
     "output_type": "stream",
     "text": [
      "Fichiers topos STR trouvés :\n",
      "['smmo_talus_courbes_tot_20181108.str', 'smmo_talus_courbes_tot_20181204.str', 'smmo_talus_courbes_tot_20190109.str', 'smmo_talus_courbes_tot_20190213.str', 'smmo_talus_courbes_tot_20190228.str', 'smmo_talus_courbes_tot_20190430.str', 'smmo_talus_courbes_tot_20190603.str', 'smmo_talus_courbes_tot_20190703.str', 'smmo_talus_courbes_tot_20190808.str', 'smmo_talus_courbes_tot_20190904.str', 'smmo_talus_courbes_tot_20191001.str', 'smmo_talus_courbes_tot_20191106.str', 'smmo_talus_courbes_tot_202002010.str', 'smmo_talus_courbes_tot_20200305.str', 'smmo_talus_courbes_tot_20200512.str', 'smmo_talus_courbes_tot_20200604.str', 'smmo_talus_courbes_tot_20200713.str', 'smmo_talus_courbes_tot_210719.str', 'topo_ref_kouaoua_20100810.str']\n",
      "Fichiers topos SHP trouvés :\n",
      "['k2_talus_tot_13_01_29.shp', 'KAA_KAD_20220202_Simplified_point_cloud.shp', 'Kadjitra_20211116_Simplified_point_cloud.shp', 'NMC_KAA_KAD_202200608_Point_Cloud_Simplified_PCL.shp', 'NMC_KAA_KAD_20230117_Point Cloud Simplified PCL.shp', 'NMC_KAA_KAD_SMMO_20230711_PCL.shp', 'NMC_KAA_SMMO37_20220311_Point_Cloud_Simplified_PCL.shp', 'TOPO_KAA_SMMO_20230613.shp']\n"
     ]
    }
   ],
   "source": [
    "#Resolution en mètres\n",
    "res = 1 #0.25,1,2.5,5,10\n",
    "\n",
    "#affichage des topo .str trouvées dans le dossier.\n",
    "list_topo_str_up = [fichier for fichier in os.listdir(\"input\") if fichier.endswith(\".str\")]\n",
    "print(\"Fichiers topos STR trouvés :\")\n",
    "print(list_topo_str_up)\n",
    "\n",
    "#affichage des topo .shp trouvées dans le dossier.\n",
    "list_topo_shp_up = [fichier for fichier in os.listdir(\"input\") if fichier.endswith(\".shp\")]\n",
    "print(\"Fichiers topos SHP trouvés :\")\n",
    "print(list_topo_shp_up)"
   ]
  },
  {
   "cell_type": "markdown",
   "id": "d841a0d7-a5a6-4f8b-b182-fcc234330bda",
   "metadata": {},
   "source": [
    "### Lancer l'algorithme"
   ]
  },
  {
   "cell_type": "code",
   "execution_count": 3,
   "id": "144142c4-01ab-4643-bc2b-3e666620b7ce",
   "metadata": {},
   "outputs": [
    {
     "name": "stdout",
     "output_type": "stream",
     "text": [
      "0% - Initialisation\n",
      "5% - Nettoyage des .str en cours\n",
      "10% - Création de la grille en fonction des bbox observées des topos\n",
      "11% - emprise totale des topographies calculée :\n",
      "xmin:371636.32, xmax: 382027.67, ymin: 307972.71, ymax: 318010.38\n",
      "12 % - Création de la grille\n",
      "20% - Création de la DataFrame de la grille...\n",
      "25% - Vérification et application de la limite de la zone d'étude...\n",
      "26% - Ok la limite a été trouvée...\n",
      "27% - avant clipping 104314896\n",
      "Début du clipping\n",
      "Cutté à l'emprise. Longueur de la grille avant clipping : 1747536\n",
      "27% - après clipping 1169821\n",
      "30% - Lecture des topos et interpolation...\n",
      "topo0 linearNDinterpolator solved\n",
      "topo0 interpolation appliquée à la grille...\n",
      "topo1 linearNDinterpolator solved\n",
      "topo1 interpolation appliquée à la grille...\n",
      "topo2 linearNDinterpolator solved\n",
      "topo2 interpolation appliquée à la grille...\n",
      "topo3 linearNDinterpolator solved\n",
      "topo3 interpolation appliquée à la grille...\n",
      "topo4 linearNDinterpolator solved\n",
      "topo4 interpolation appliquée à la grille...\n",
      "topo5 linearNDinterpolator solved\n",
      "topo5 interpolation appliquée à la grille...\n",
      "topo6 linearNDinterpolator solved\n",
      "topo6 interpolation appliquée à la grille...\n",
      "topo7 linearNDinterpolator solved\n",
      "topo7 interpolation appliquée à la grille...\n",
      "topo8 linearNDinterpolator solved\n",
      "topo8 interpolation appliquée à la grille...\n",
      "topo9 linearNDinterpolator solved\n",
      "topo9 interpolation appliquée à la grille...\n",
      "topo10 linearNDinterpolator solved\n",
      "topo10 interpolation appliquée à la grille...\n",
      "topo11 linearNDinterpolator solved\n",
      "topo11 interpolation appliquée à la grille...\n",
      "topo12 linearNDinterpolator solved\n",
      "topo12 interpolation appliquée à la grille...\n",
      "topo13 linearNDinterpolator solved\n",
      "topo13 interpolation appliquée à la grille...\n",
      "topo14 linearNDinterpolator solved\n",
      "topo14 interpolation appliquée à la grille...\n",
      "topo15 linearNDinterpolator solved\n",
      "topo15 interpolation appliquée à la grille...\n",
      "topo16 linearNDinterpolator solved\n",
      "topo16 interpolation appliquée à la grille...\n",
      "topo17 linearNDinterpolator solved\n",
      "topo17 interpolation appliquée à la grille...\n",
      "topo18 linearNDinterpolator solved\n",
      "topo18 interpolation appliquée à la grille...\n",
      "topo19 linearNDinterpolator solved\n",
      "topo19 interpolation appliquée à la grille...\n",
      "topo20 linearNDinterpolator solved\n",
      "topo20 interpolation appliquée à la grille...\n",
      "topo21 linearNDinterpolator solved\n",
      "topo21 interpolation appliquée à la grille...\n",
      "topo22 linearNDinterpolator solved\n",
      "topo22 interpolation appliquée à la grille...\n",
      "topo23 linearNDinterpolator solved\n",
      "topo23 interpolation appliquée à la grille...\n",
      "topo24 linearNDinterpolator solved\n",
      "topo24 interpolation appliquée à la grille...\n",
      "topo25 linearNDinterpolator solved\n",
      "topo25 interpolation appliquée à la grille...\n",
      "topo26 linearNDinterpolator solved\n",
      "topo26 interpolation appliquée à la grille...\n",
      "85% - Récupération des z et soustraction des colonnes...\n",
      "len grid_df = 1169821 before drop\n",
      "len grid_df = 1169821 after drop\n",
      "90% - Conversion Surpac...\n",
      "...ecriture de 1169821 lignes...\n",
      "100% - Terminé\n"
     ]
    }
   ],
   "source": [
    "main_process(res, list_topo_str_up, list_topo_shp_up)"
   ]
  },
  {
   "cell_type": "markdown",
   "id": "32944ff7-a160-4c76-931e-5f6bfaa80f33",
   "metadata": {},
   "source": [
    "Une fois le processus achevé, les résultats seront disponibles dans le dossier output."
   ]
  }
 ],
 "metadata": {
  "kernelspec": {
   "display_name": "Python 3 (ipykernel)",
   "language": "python",
   "name": "python3"
  },
  "language_info": {
   "codemirror_mode": {
    "name": "ipython",
    "version": 3
   },
   "file_extension": ".py",
   "mimetype": "text/x-python",
   "name": "python",
   "nbconvert_exporter": "python",
   "pygments_lexer": "ipython3",
   "version": "3.11.5"
  }
 },
 "nbformat": 4,
 "nbformat_minor": 5
}
