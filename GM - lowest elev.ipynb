{
 "cells": [
  {
   "cell_type": "markdown",
   "id": "7883a6c5-fa1c-4a87-a83d-07acdc8369d2",
   "metadata": {},
   "source": [
    "# GM - lowest elevation from multiple .str/.shp files"
   ]
  },
  {
   "cell_type": "markdown",
   "id": "3c4bccf8-317e-4bdb-8355-4420f2f45d2c",
   "metadata": {},
   "source": [
    "A simple notebook to batch process multiple Surpac .str DEM to compute the lowest escavated points of your site from all your .str, .shp and .dxf.\n",
    "\n",
    "Le suivi topographique est important dans le contexte minier pour différencier les zones remblayées du terrain naturel. Pour générer une topographie défruitée, c'est à dire une topographie montrant le point le plus bas historiquement atteint, de longues manipulations topographie par topographie sont nécessaires. Aujourd'hui il existe des solutions directement dans les logiciels Surpac, Leapfrog et QGIS pour calculer la topographie la plus basse par paire de topographie, mais pas à la volée.\n",
    "\n",
    "Ce notebook permet de compiler une topo defruitée à partir de x fichiers .str et d'un contour .gpkg. Il s'agit d'une application open source qui s'adapte au format des fichiers .str (Attention : au format texte, non binaire) de Surpac. Mettre toutes les topos .str dans le dossier \"input\" et la limite désirée de l'output au format bd_topo_def.gpkg dans le dossier \"input boundary\". Limites rencontrées : sur certaines grandes zones avec une résolution de 1m, le fichier peut générer de +100 000 000 points de controle ce qui peut éventuellement créer un crash du noyau. Limitez intelligemment la zone d'intérêt et donc le nombre de point grâce au fichier de boundary.\n",
    "\n",
    "Vous devrez avoir au préalable installé les librairies jupyter, geopandas, pandas, numpy et scipy dans votre environnement avec les commandes :\n",
    "\n",
    "- pip install numpy\n",
    "- pip install pandas\n",
    "- pip install jupyter\n",
    "- pip install scipy\n",
    "- pip install geopandas\n",
    "- Puis lancer la commande \"jupyter notebook\" et ouvrir le notebook .ipynb Script 100% python.\n",
    "\n",
    "Trouble shooting :\n",
    "\n",
    "- Attention à l'arborescence et au nom du fichier boundary.\n",
    "- En cas d'erreur de byte non reconnu, recherchez dans la topo concernée s'il y a des caractères spéciaux é, è, à, ù, ... qui peuvent dans certains cas etre problématiques.\n",
    "- Vérifier que les str soient au format str."
   ]
  },
  {
   "cell_type": "markdown",
   "id": "9b11a201-cda5-4f5d-ba23-a836ef9ffdaf",
   "metadata": {},
   "source": [
    "### Import des librairies"
   ]
  },
  {
   "cell_type": "markdown",
   "id": "f94e190d-7fa4-4d56-a0d3-a6196cc61364",
   "metadata": {},
   "source": [
    "L'application utilise les librairies jupyter (notebook), pandas (tableurs), scipy (calculs sur grille), geopandas (geospatial) et numpy (calculs) ainsi qu'os (explorateur de dossier). Les fonctions sont définies dans le fichier functions.py."
   ]
  },
  {
   "cell_type": "code",
   "execution_count": null,
   "id": "7e3f6185-1117-431d-83eb-096c378a490b",
   "metadata": {},
   "outputs": [],
   "source": [
    "#import des librairies, import des fonctions\n",
    "import pandas as pd\n",
    "import numpy as np\n",
    "import os\n",
    "from functions import clean_str, to_surpac_str, main_process, create_grid_from_bd, load_boundary, read_convert_line_shp"
   ]
  },
  {
   "cell_type": "markdown",
   "id": "99ea75e1-653e-48e7-ad22-a076b40a3f88",
   "metadata": {},
   "source": [
    "### Paramétrage de la résolution et identification des topo disponibles"
   ]
  },
  {
   "cell_type": "markdown",
   "id": "ead15422-9ad1-47b5-89df-c04c948171eb",
   "metadata": {},
   "source": [
    "Vous pouvez ici paramétrer la résolution souhaitée de la topo défruitée. 1m reste suffisant pour une grande zone, possibilité descendre à 0.5m pour une plus petite zone et inversement."
   ]
  },
  {
   "cell_type": "code",
   "execution_count": null,
   "id": "b162ac5b-b273-428a-a8f6-043d1bdb13f9",
   "metadata": {},
   "outputs": [],
   "source": [
    "#Resolution en mètres\n",
    "res = 1 #0.25,1,2.5,5,10\n",
    "\n",
    "#affichage des topo .str trouvées dans le dossier.\n",
    "list_topo_str_up = [fichier for fichier in os.listdir(\"input\") if fichier.endswith(\".str\")]\n",
    "print(f\"{len(list_topo_str_up)} fichiers topos STR trouvés :\")\n",
    "print(list_topo_str_up)\n",
    "\n",
    "#affichage des topo .dxf trouvées dans le dossier.\n",
    "list_topo_dxf_up = [fichier for fichier in os.listdir(\"input\") if fichier.endswith(\".dxf\")]\n",
    "print(f\"{len(list_topo_dxf_up)} fichiers topos DXF trouvés :\")\n",
    "print(list_topo_dxf_up)\n",
    "\n",
    "#affichage des topo .shp trouvées dans le dossier.\n",
    "list_topo_shp_up = [fichier for fichier in os.listdir(\"input\") if fichier.endswith(\".shp\")]\n",
    "print(f\"{len(list_topo_shp_up)} fichiers topos SHP trouvés :\")\n",
    "print(list_topo_shp_up)"
   ]
  },
  {
   "cell_type": "markdown",
   "id": "d841a0d7-a5a6-4f8b-b182-fcc234330bda",
   "metadata": {},
   "source": [
    "### Lancer l'algorithme"
   ]
  },
  {
   "cell_type": "code",
   "execution_count": null,
   "id": "144142c4-01ab-4643-bc2b-3e666620b7ce",
   "metadata": {},
   "outputs": [],
   "source": [
    "#processus general, les fonctions sont dans le fichier functions.py\n",
    "main_process(res, list_topo_str_up, list_topo_shp_up, list_topo_dxf_up)"
   ]
  },
  {
   "cell_type": "markdown",
   "id": "32944ff7-a160-4c76-931e-5f6bfaa80f33",
   "metadata": {},
   "source": [
    "Une fois le processus achevé, les résultats seront disponibles dans le dossier output."
   ]
  }
 ],
 "metadata": {
  "kernelspec": {
   "display_name": "Python 3 (ipykernel)",
   "language": "python",
   "name": "python3"
  },
  "language_info": {
   "codemirror_mode": {
    "name": "ipython",
    "version": 3
   },
   "file_extension": ".py",
   "mimetype": "text/x-python",
   "name": "python",
   "nbconvert_exporter": "python",
   "pygments_lexer": "ipython3",
   "version": "3.11.5"
  }
 },
 "nbformat": 4,
 "nbformat_minor": 5
}
