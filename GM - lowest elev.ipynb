{
 "cells": [
  {
   "cell_type": "markdown",
   "id": "7883a6c5-fa1c-4a87-a83d-07acdc8369d2",
   "metadata": {},
   "source": [
    "# GM - lowest elevation from multiple .str files"
   ]
  },
  {
   "cell_type": "markdown",
   "id": "3c4bccf8-317e-4bdb-8355-4420f2f45d2c",
   "metadata": {},
   "source": [
    "Le suivi topographique est important dans le contexte minier pour différencier les zones remblayées du terrain naturel. Pour générer une topographie défruitée, c'est à dire une topographie montrant le point le plus bas historiquement atteint, des manipulations chronophages topographie par topographie sont nécessaires. Il existe des solutions directement dans les logiciels Surpac, Leapfrog et QGIS pour calculer la topographie la plus basse par paire de topographie, mais pas à la volée."
   ]
  },
  {
   "cell_type": "markdown",
   "id": "c18e8743-fd49-4594-9f1c-9a6b23d74f42",
   "metadata": {},
   "source": [
    "Ce notebook permet de compiler une topo defruitée à partir de x fichiers .str et d'un contour .gpkg.\n",
    "Il s'agit d'une application open source qui s'adapte au format des fichiers .str (text, non binaire) de Surpac. Mettre toutes les topos .str dans le dossier \"input\" et le contour au format bd_topo_def.gpkg dans le dossier \"input boundary\".\n",
    "Limites rencontrées : sur certaines grandes zones avec une résolution de 1m, le fichier peut générer de +100 000 000 points de controle ce qui peut éventuellement créer un crash du noyau. Limitez la zone d'intérêt et donc le nombre de point grâce au fichier boundary."
   ]
  },
  {
   "cell_type": "markdown",
   "id": "289d0f33-dffd-4760-9604-0caaf5cbd071",
   "metadata": {},
   "source": [
    "Vous devrez avoir au préalable installé les librairies jupyter, pandas et numpy."
   ]
  },
  {
   "cell_type": "markdown",
   "id": "9b11a201-cda5-4f5d-ba23-a836ef9ffdaf",
   "metadata": {},
   "source": [
    "### Import des librairies"
   ]
  },
  {
   "cell_type": "markdown",
   "id": "f94e190d-7fa4-4d56-a0d3-a6196cc61364",
   "metadata": {},
   "source": [
    "L'application utilise les librairies jupyter (notebook), pandas (tableurs) et numpy (calculs) ainsi qu'os (explorateur de dossier). Les fonctions sont définies dans le fichier functions.py."
   ]
  },
  {
   "cell_type": "code",
   "execution_count": null,
   "id": "7e3f6185-1117-431d-83eb-096c378a490b",
   "metadata": {},
   "outputs": [],
   "source": [
    "#import des librairies, import des fonctions\n",
    "import pandas as pd\n",
    "import numpy as np\n",
    "import os\n",
    "from functions import clean_str, to_surpac_str, main_process"
   ]
  },
  {
   "cell_type": "markdown",
   "id": "99ea75e1-653e-48e7-ad22-a076b40a3f88",
   "metadata": {},
   "source": [
    "### Paramétrage de la résolution et identification des topo disponibles"
   ]
  },
  {
   "cell_type": "markdown",
   "id": "ead15422-9ad1-47b5-89df-c04c948171eb",
   "metadata": {},
   "source": [
    "Vous pouvez ici paramétrer la résolution souhaitée de la topo défruitée. 1m reste suffisant pour une grande zone, possibilité descendre à 0.5m pour une plus petite zone et inversement."
   ]
  },
  {
   "cell_type": "code",
   "execution_count": null,
   "id": "b162ac5b-b273-428a-a8f6-043d1bdb13f9",
   "metadata": {},
   "outputs": [],
   "source": [
    "#Resolution en mètres\n",
    "res = 0.8 #0.25,1,2.5,5,10\n",
    "\n",
    "#affichage des topo trouvées dans le dossier.\n",
    "list_topo_up = [fichier for fichier in os.listdir(\"input\") if fichier.endswith(\".str\")]\n",
    "print(\"Fichiers topos trouvés :\")\n",
    "list_topo_up"
   ]
  },
  {
   "cell_type": "markdown",
   "id": "d841a0d7-a5a6-4f8b-b182-fcc234330bda",
   "metadata": {},
   "source": [
    "### Lancer l'algorithme"
   ]
  },
  {
   "cell_type": "code",
   "execution_count": null,
   "id": "144142c4-01ab-4643-bc2b-3e666620b7ce",
   "metadata": {},
   "outputs": [],
   "source": [
    "main_process(res, list_topo_up)"
   ]
  },
  {
   "cell_type": "markdown",
   "id": "32944ff7-a160-4c76-931e-5f6bfaa80f33",
   "metadata": {},
   "source": [
    "Une fois le processus achevé, les résultats seront disponibles dans le dossier output."
   ]
  }
 ],
 "metadata": {
  "kernelspec": {
   "display_name": "Python 3 (ipykernel)",
   "language": "python",
   "name": "python3"
  },
  "language_info": {
   "codemirror_mode": {
    "name": "ipython",
    "version": 3
   },
   "file_extension": ".py",
   "mimetype": "text/x-python",
   "name": "python",
   "nbconvert_exporter": "python",
   "pygments_lexer": "ipython3",
   "version": "3.11.5"
  }
 },
 "nbformat": 4,
 "nbformat_minor": 5
}
